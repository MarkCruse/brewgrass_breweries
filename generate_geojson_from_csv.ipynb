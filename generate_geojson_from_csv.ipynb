{
 "cells": [
  {
   "cell_type": "code",
   "execution_count": 1,
   "id": "f251d208-fabb-4732-9dc8-4cb87a24125f",
   "metadata": {},
   "outputs": [
    {
     "name": "stderr",
     "output_type": "stream",
     "text": [
      "/Users/mark/anaconda3/envs/geo-env/lib/python3.11/site-packages/pyproj/crs/crs.py:141: FutureWarning: '+init=<authority>:<code>' syntax is deprecated. '<authority>:<code>' is the preferred initialization method. When making the change, be mindful of axis order changes: https://pyproj4.github.io/pyproj/stable/gotchas.html#axis-order-changes-in-proj-6\n",
      "  in_crs_string = _prepare_from_proj_string(in_crs_string)\n"
     ]
    }
   ],
   "source": [
    "import os\n",
    "os.environ['USE_PYGEOS'] = '0'\n",
    "\n",
    "import geopandas as gpd\n",
    "from shapely.geometry import Point\n",
    "import json\n",
    "\n",
    "# Read the CSV file using geopandas\n",
    "data = gpd.read_file('brewgrass_breweries.csv')\n",
    "\n",
    "# Create a GeoDataFrame\n",
    "geometry = [Point(xy) for xy in zip(data['longitude'], data['latitude'])]\n",
    "crs = {'init': 'epsg:4326'}\n",
    "geo_df = gpd.GeoDataFrame(data, crs=crs, geometry=geometry)\n",
    "\n",
    "# Convert the GeoDataFrame to GeoJSON\n",
    "geojson_data = geo_df.to_crs(epsg='4326').to_json()\n",
    "\n",
    "# Write the GeoJSON to a file\n",
    "with open('brewgrass_breweries.geojson', 'w') as outfile:\n",
    "    json.dump(json.loads(geojson_data), outfile)\n"
   ]
  },
  {
   "cell_type": "code",
   "execution_count": null,
   "id": "9da44afd-45d7-4e23-9a25-317032b9dc03",
   "metadata": {},
   "outputs": [],
   "source": []
  }
 ],
 "metadata": {
  "kernelspec": {
   "display_name": "Python 3 (ipykernel)",
   "language": "python",
   "name": "python3"
  },
  "language_info": {
   "codemirror_mode": {
    "name": "ipython",
    "version": 3
   },
   "file_extension": ".py",
   "mimetype": "text/x-python",
   "name": "python",
   "nbconvert_exporter": "python",
   "pygments_lexer": "ipython3",
   "version": "3.11.3"
  }
 },
 "nbformat": 4,
 "nbformat_minor": 5
}
